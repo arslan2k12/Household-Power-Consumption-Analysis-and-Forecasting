{
 "cells": [
  {
   "cell_type": "code",
   "execution_count": 4,
   "metadata": {},
   "outputs": [
    {
     "name": "stderr",
     "output_type": "stream",
     "text": [
      "C:\\ProgramData\\Anaconda3\\lib\\site-packages\\sklearn\\cross_validation.py:41: DeprecationWarning: This module was deprecated in version 0.18 in favor of the model_selection module into which all the refactored classes and functions are moved. Also note that the interface of the new CV iterators are different from that of this module. This module will be removed in 0.20.\n",
      "  \"This module will be removed in 0.20.\", DeprecationWarning)\n",
      "C:\\ProgramData\\Anaconda3\\lib\\site-packages\\h5py\\__init__.py:36: FutureWarning: Conversion of the second argument of issubdtype from `float` to `np.floating` is deprecated. In future, it will be treated as `np.float64 == np.dtype(float).type`.\n",
      "  from ._conv import register_converters as _register_converters\n",
      "Using TensorFlow backend.\n"
     ]
    }
   ],
   "source": [
    "#Title: Energy forecasting using LSTM Networks\n",
    "#Author: Arslan Ahmed (arslan.m.ahmed@gmail.com)\n",
    "#Date: 2nd March, 2018\n",
    "\n",
    "#import all packages that we may need\n",
    "\n",
    "import sys \n",
    "import numpy as np # linear algebra\n",
    "from scipy.stats import randint\n",
    "import pandas as pd # data processing\n",
    "import matplotlib.pyplot as plt # this is used for the plot the graph \n",
    "import seaborn as sns # used for plot interactive graph. \n",
    "from sklearn.model_selection import train_test_split # to split the data into two parts\n",
    "from sklearn.cross_validation import KFold # use for cross validation\n",
    "from sklearn import preprocessing # for normalization\n",
    "from sklearn.preprocessing import MinMaxScaler\n",
    "from sklearn.pipeline import Pipeline # pipeline making\n",
    "from sklearn.model_selection import cross_val_score\n",
    "from sklearn.feature_selection import SelectFromModel\n",
    "from sklearn import metrics # for the check the error and accuracy of the model\n",
    "from sklearn.metrics import mean_squared_error,r2_score\n",
    "from sklearn.ensemble import ExtraTreesClassifier\n",
    "from scipy import signal\n",
    "\n",
    "## for Deep-learing:\n",
    "import keras\n",
    "from keras.layers import Dense\n",
    "from keras.models import Sequential\n",
    "from keras.utils import to_categorical\n",
    "from keras.optimizers import SGD \n",
    "from keras.callbacks import EarlyStopping\n",
    "from keras.utils import np_utils\n",
    "import itertools\n",
    "from keras.layers import LSTM\n",
    "from keras.layers.convolutional import Conv1D\n",
    "from keras.layers.convolutional import MaxPooling1D\n",
    "from keras.layers import Dropout\n",
    "from pandas import concat\n",
    "import matplotlib.dates as md\n",
    "from sklearn.svm import SVR\n",
    "from sklearn.linear_model import LinearRegression"
   ]
  },
  {
   "cell_type": "code",
   "execution_count": 5,
   "metadata": {},
   "outputs": [],
   "source": [
    "#function to convert time series data to apply supervised learning\n",
    "def series_to_supervised(data, n_in=1, n_out=1, dropnan=True):\n",
    "\t\"\"\"\n",
    "\tFrame a time series as a supervised learning dataset.\n",
    "\tArguments:\n",
    "\t\tdata: Sequence of observations as a list or NumPy array.\n",
    "\t\tn_in: Number of lag observations as input (X).\n",
    "\t\tn_out: Number of observations as output (y).\n",
    "\t\tdropnan: Boolean whether or not to drop rows with NaN values.\n",
    "\tReturns:\n",
    "\t\tPandas DataFrame of series framed for supervised learning.\n",
    "\t\"\"\"\n",
    "\tn_vars = 1 if type(data) is list else data.shape[1]\n",
    "\tdf = pd.DataFrame(data)\n",
    "\tcols, names = list(), list()\n",
    "\t# input sequence (t-n, ... t-1)\n",
    "\tfor i in range(n_in, 0, -1):\n",
    "\t\tcols.append(df.shift(i))\n",
    "\t\tnames += [('var%d(t-%d)' % (j+1, i)) for j in range(n_vars)]\n",
    "\t# forecast sequence (t, t+1, ... t+n)\n",
    "\tfor i in range(0, n_out):\n",
    "\t\tcols.append(df.shift(-i))\n",
    "\t\tif i == 0:\n",
    "\t\t\tnames += [('var%d(t)' % (j+1)) for j in range(n_vars)]\n",
    "\t\telse:\n",
    "\t\t\tnames += [('var%d(t+%d)' % (j+1, i)) for j in range(n_vars)]\n",
    "\t# put it all together\n",
    "\tagg = pd.concat(cols, axis=1)\n",
    "\tagg.columns = names\n",
    "\t# drop rows with NaN values\n",
    "\tif dropnan:\n",
    "\t\tagg.dropna(inplace=True)\n",
    "\treturn agg"
   ]
  },
  {
   "cell_type": "code",
   "execution_count": 6,
   "metadata": {},
   "outputs": [],
   "source": [
    "#read energy data\n",
    "\n",
    "df_e = pd.read_csv('UKdata_energy.csv', parse_dates={'time_e' : ['Time']}, infer_datetime_format=True, na_values=['nan','?'], index_col='time_e')"
   ]
  },
  {
   "cell_type": "code",
   "execution_count": 7,
   "metadata": {},
   "outputs": [],
   "source": [
    "#read weather data\n",
    "\n",
    "df_w = pd.read_csv('UKdata_weather.csv', parse_dates={'time_w' : ['time']}, infer_datetime_format=True, na_values=['nan','?'], index_col='time_w')"
   ]
  },
  {
   "cell_type": "code",
   "execution_count": 8,
   "metadata": {},
   "outputs": [],
   "source": [
    "#select data from 1st Jan 2013 to 28th Feb 2014\n",
    "df_e=df_e['2013-01-01':'2014-02-28']\n",
    "df_w=df_w['2013-01-01':'2014-02-28']"
   ]
  },
  {
   "cell_type": "code",
   "execution_count": 9,
   "metadata": {},
   "outputs": [],
   "source": [
    "df_w=df_w.resample('30min').mean()\n",
    "df_e=df_e.resample('30min').mean()"
   ]
  },
  {
   "cell_type": "code",
   "execution_count": 10,
   "metadata": {},
   "outputs": [],
   "source": [
    "df = pd.concat([df_e, df_w], axis=1, join='inner')"
   ]
  },
  {
   "cell_type": "code",
   "execution_count": 11,
   "metadata": {},
   "outputs": [],
   "source": [
    "df=df.interpolate(method='linear')"
   ]
  },
  {
   "cell_type": "code",
   "execution_count": 12,
   "metadata": {},
   "outputs": [],
   "source": [
    "df['Day of week'] = df.index.weekday.astype(int)\n",
    "df[\"Weekend\"] = (df[\"Day of week\"] > 5).astype(int)\n",
    "df.iloc[:,0:3] *= 1000"
   ]
  },
  {
   "cell_type": "code",
   "execution_count": 13,
   "metadata": {},
   "outputs": [],
   "source": [
    "no_of_features=len(df.columns)"
   ]
  },
  {
   "cell_type": "code",
   "execution_count": 14,
   "metadata": {},
   "outputs": [],
   "source": [
    "#removing outliers\n",
    "df[df.D0009 > df.D0009.quantile(.9)]=np.nan #data above 90 percentile will be filled with NaN\n",
    "df[df.D0664 > df.D0664.quantile(.9)]=np.nan\n",
    "df[df.D0935 > df.D0935.quantile(.9)]=np.nan\n",
    "df=df.fillna(method='pad')"
   ]
  },
  {
   "cell_type": "code",
   "execution_count": 15,
   "metadata": {},
   "outputs": [],
   "source": [
    "#drop features that are correlated with each other\n",
    "df=df.drop(df.columns[[0,6,8]], axis=1)\n",
    "#df=df.drop(df.columns[1:], axis=1)"
   ]
  },
  {
   "cell_type": "code",
   "execution_count": 16,
   "metadata": {},
   "outputs": [],
   "source": [
    "#revised no. of features after dropping correlated features\n",
    "no_of_features=len(df.columns)"
   ]
  },
  {
   "cell_type": "code",
   "execution_count": 17,
   "metadata": {},
   "outputs": [],
   "source": [
    "#data scaling from 0 to 1 of original data\n",
    "scaler = MinMaxScaler(feature_range=(0, 1))\n",
    "scaled = scaler.fit_transform(df)"
   ]
  },
  {
   "cell_type": "code",
   "execution_count": 18,
   "metadata": {},
   "outputs": [],
   "source": [
    "no_of_timesteps=1\n",
    "reframed = series_to_supervised(scaled, no_of_timesteps, 1)\n",
    "# print(reframed.head())"
   ]
  },
  {
   "cell_type": "code",
   "execution_count": 19,
   "metadata": {},
   "outputs": [],
   "source": [
    "# drop columns we don't want to predict\n",
    "col_array=np.arange(0,len(reframed.columns))\n",
    "reframed=reframed.loc[:,(col_array<no_of_features*no_of_timesteps+1) | (col_array%(no_of_features)==0)]"
   ]
  },
  {
   "cell_type": "code",
   "execution_count": 53,
   "metadata": {},
   "outputs": [],
   "source": [
    "error_days=[]"
   ]
  },
  {
   "cell_type": "code",
   "execution_count": 54,
   "metadata": {},
   "outputs": [
    {
     "name": "stdout",
     "output_type": "stream",
     "text": [
      "loop 7\n",
      "151.99695793537683\n",
      "loop 14\n",
      "136.03243948851136\n",
      "loop 21\n",
      "124.15259580808294\n",
      "loop 28\n",
      "119.35136631156541\n",
      "loop 35\n",
      "118.51352977880319\n",
      "loop 42\n",
      "117.55908470423427\n",
      "loop 49\n",
      "118.0596162163903\n",
      "loop 56\n",
      "118.32791134085558\n",
      "loop 63\n",
      "120.35730007085989\n",
      "loop 70\n",
      "120.09532117599217\n",
      "loop 77\n",
      "120.60729852900698\n"
     ]
    },
    {
     "data": {
      "image/png": "[encoded data removed]",
      "text/plain": [
       "<matplotlib.figure.Figure at 0x20f7b39ba58>"
      ]
     },
     "metadata": {},
     "output_type": "display_data"
    }
   ],
   "source": [
    "\n",
    "for p in range(7,84,7):\n",
    "    print('loop', p)\n",
    "    n_train_time = 2*24*84; # hours used for training.....\n",
    "    original_n_train_time=n_train_time;\n",
    "    pred_list=[]; #predicted values that will replace the original test_y values\n",
    "    testing_rows=2*24*4;#hours to predict\n",
    "    #testing_rows=reframed.shape[0]-original_n_train_time-1\n",
    "    test1 = reframed.values[n_train_time:n_train_time+testing_rows, :] #original testing data, this will later be modified with the predicted data generated by for loop\n",
    "    test_y1 = test1[:, -1] #see comment in above line\n",
    "    train = reframed.values[n_train_time-2*24*p:n_train_time, :]\n",
    "    # split into input and outputs\n",
    "    train_X, train_y = train[:, :-1], train[:, -1]\n",
    "    svr_rbf = SVR(kernel='rbf', C=100, gamma=0.01);\n",
    "    svr_rbf.fit(train_X, train_y);\n",
    "    for j in range(0,testing_rows):\n",
    "    #     print('Loop # ',j)\n",
    "        test = reframed.values[n_train_time:n_train_time+1, :]\n",
    "        test_X = test[:, :-1]\n",
    "    #     test_X = test_X.reshape((test_X.shape[0], no_of_timesteps, no_of_features))\n",
    "        yhat = svr_rbf.predict(test_X)\n",
    "        for k in range(0,len(reframed.columns),no_of_features):\n",
    "            if((k+no_of_features)<(len(reframed.columns)-1)):\n",
    "                reframed.values[n_train_time+1,k]=reframed.values[n_train_time,(k+no_of_features)];\n",
    "        reframed.values[n_train_time+1,(len(reframed.columns)-1-no_of_features)]=yhat;\n",
    "    #     reframed.values[n_train_time+1,0]=yhat;\n",
    "        n_train_time=n_train_time+1\n",
    "        pred_list=np.append(pred_list,yhat)\n",
    "    #     print(reframed[n_train_time-1:n_train_time])\n",
    "    #     print(yhat)\n",
    "    n_train_time=original_n_train_time\n",
    "    x_max=df.iloc[:,0].max()\n",
    "    x_min=df.iloc[:,0].min()\n",
    "    test_y1_un_scaled=test_y1*(x_max-x_min)+x_min\n",
    "    pred_list_un_scaled=pred_list*(x_max-x_min)+x_min\n",
    "    rmse=np.sqrt(mean_squared_error(test_y1_un_scaled, np.roll(pred_list_un_scaled, -1)))\n",
    "    error_days.append(rmse)\n",
    "    print(rmse)\n",
    "    plt.plot(test_y1_un_scaled,'go-', label='True data', linewidth=3)\n",
    "    plt.plot(np.roll(pred_list_un_scaled, -1),'bo-',label='Predicted Data', linewidth=3)"
   ]
  },
  {
   "cell_type": "code",
   "execution_count": 55,
   "metadata": {},
   "outputs": [
    {
     "data": {
      "image/png": "[encoded data removed]",
      "text/plain": [
       "<matplotlib.figure.Figure at 0x20f7b380cf8>"
      ]
     },
     "metadata": {},
     "output_type": "display_data"
    }
   ],
   "source": [
    "plt.figure(figsize=(15,8))    \n",
    "# plt.bar(range(len(error_days/(x_max-x_min))), error_days/(x_max-x_min))\n",
    "plt.plot(error_days/(x_max-x_min),'r-',linewidth=3)\n",
    "plt.ylabel('NRMSE', fontsize=20)\n",
    "plt.xlabel('Time (weeks)', fontsize=20)\n",
    "plt.tick_params(axis='both', which='major', labelsize=15)    \n",
    "\n",
    "# x=np.arange(0,len(test_y1_un_scaled),24)\n",
    "# y=df.index.strftime('%d-%b\\n%I-%M-%p')[original_n_train_time::24]\n",
    "# plt.xticks(x, y, rotation=80);\n",
    "\n",
    "plt.ylim(ymin=0, ymax=0.5)\n",
    "plt.title('Error vs Length of training data', fontsize=30)\n",
    "plt.savefig('F_Error_train.pdf', bbox_inches='tight')\n",
    "plt.tick_params(axis='both', which='major', labelsize=30)\n"
   ]
  },
  {
   "cell_type": "code",
   "execution_count": 39,
   "metadata": {},
   "outputs": [
    {
     "data": {
      "text/plain": [
       "[151.99695793537683,\n",
       " 136.03243948851136,\n",
       " 124.15259580808294,\n",
       " 119.35136631156541,\n",
       " 118.51352977880319,\n",
       " 117.55908470423427,\n",
       " 118.0596162163903,\n",
       " 118.32791134085558,\n",
       " 120.35730007085989,\n",
       " 120.09532117599217,\n",
       " 120.60729852900698]"
      ]
     },
     "execution_count": 39,
     "metadata": {},
     "output_type": "execute_result"
    }
   ],
   "source": [
    "error_days"
   ]
  },
  {
   "cell_type": "code",
   "execution_count": null,
   "metadata": {},
   "outputs": [],
   "source": []
  }
 ],
 "metadata": {
  "kernelspec": {
   "display_name": "Python 3",
   "language": "python",
   "name": "python3"
  },
  "language_info": {
   "codemirror_mode": {
    "name": "ipython",
    "version": 3
   },
   "file_extension": ".py",
   "mimetype": "text/x-python",
   "name": "python",
   "nbconvert_exporter": "python",
   "pygments_lexer": "ipython3",
   "version": "3.6.4"
  }
 },
 "nbformat": 4,
 "nbformat_minor": 2
}
